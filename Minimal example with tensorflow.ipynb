{
 "cells": [
  {
   "cell_type": "markdown",
   "id": "30b41715",
   "metadata": {},
   "source": [
    "# Minimal Example with Tensorflow"
   ]
  },
  {
   "cell_type": "markdown",
   "id": "dfea6ce7",
   "metadata": {},
   "source": [
    "## Import relevant libraries"
   ]
  },
  {
   "cell_type": "code",
   "execution_count": null,
   "id": "40423a98",
   "metadata": {},
   "outputs": [],
   "source": [
    "import numpy as np\n",
    "import matplotlib.pyplot as plt\n",
    "import tensorflow as tf"
   ]
  },
  {
   "cell_type": "markdown",
   "id": "9b11aa99",
   "metadata": {},
   "source": [
    "## Data Generation"
   ]
  },
  {
   "cell_type": "code",
   "execution_count": null,
   "id": "69e2f02f",
   "metadata": {},
   "outputs": [],
   "source": [
    "observations = 1000\n",
    "\n",
    "xs = np.random.uniform(low=-10, high=10, size=(observations,1))\n",
    "zs = np.random.uniform(-10,10,(observations,1))\n",
    "\n",
    "generated_inputs = np.column_stack((xs,zs))\n",
    "\n",
    "noise = np.random.uniform(-1,1,(observations,1))\n",
    "\n",
    "generated_targets = 2*xs - 3*zs + 5 + noise\n",
    "\n",
    "np.savez('TF_intro', inputs = generated_inputs, targets = generated_targets)"
   ]
  },
  {
   "cell_type": "markdown",
   "id": "ff0b2e77",
   "metadata": {},
   "source": [
    "## Solving with Tensorflow"
   ]
  },
  {
   "cell_type": "code",
   "execution_count": null,
   "id": "fcba12c3",
   "metadata": {},
   "outputs": [],
   "source": [
    "training_data = np.load('TF_intro.npz')"
   ]
  },
  {
   "cell_type": "code",
   "execution_count": null,
   "id": "2d674e37",
   "metadata": {},
   "outputs": [],
   "source": [
    "input_size = 2\n",
    "output_size = 1\n",
    "\n",
    "model = tf.keras.Sequential([\n",
    "                            tf.keras.layers.Dense(output_size,\n",
    "                                                 kernel_initializer = tf.random_uniform_initializer(minval=-0.1,maxval=0.1),\n",
    "                                                 bias_initializer = tf.random_uniform_initializer(minval=-0.1,maxval=0.1)\n",
    "                                                 )\n",
    "                            ])\n",
    "custom_optimizer = tf.keras.optimizers.SGD(learning_rate=0.02) \n",
    "\n",
    "model.compile(optimizer=custom_optimizer, loss='mean_squared_error')\n",
    "\n",
    "model.fit(training_data['inputs'], training_data['targets'], epochs=200, verbose=1)"
   ]
  },
  {
   "cell_type": "markdown",
   "id": "96ea8892",
   "metadata": {},
   "source": [
    "## Extract weights and baises"
   ]
  },
  {
   "cell_type": "code",
   "execution_count": null,
   "id": "31cb30a1",
   "metadata": {},
   "outputs": [],
   "source": [
    "model.layers[0].get_weights()\n"
   ]
  },
  {
   "cell_type": "code",
   "execution_count": null,
   "id": "e2d33c19",
   "metadata": {
    "scrolled": true
   },
   "outputs": [],
   "source": [
    "weights = model.layers[0].get_weights()[0]\n",
    "weights"
   ]
  },
  {
   "cell_type": "code",
   "execution_count": null,
   "id": "16bfa20c",
   "metadata": {},
   "outputs": [],
   "source": [
    "baises = model.layers[0].get_weights()[1]\n",
    "baises"
   ]
  },
  {
   "cell_type": "markdown",
   "id": "e2e52dda",
   "metadata": {},
   "source": [
    "## Extract the outputs (make predictions)"
   ]
  },
  {
   "cell_type": "code",
   "execution_count": null,
   "id": "4446a007",
   "metadata": {},
   "outputs": [],
   "source": [
    "model.predict_on_batch(training_data['inputs']).round(1)"
   ]
  },
  {
   "cell_type": "code",
   "execution_count": null,
   "id": "49b13829",
   "metadata": {},
   "outputs": [],
   "source": [
    "training_data['targets'].round(1)"
   ]
  },
  {
   "cell_type": "code",
   "execution_count": null,
   "id": "c72db93c",
   "metadata": {},
   "outputs": [],
   "source": [
    "plt.plot(np.squeeze(model.predict_on_batch(training_data['inputs'])), np.squeeze(training_data['targets']))\n",
    "plt.xlabel('Outputs')\n",
    "plt.ylabel('Targets')\n",
    "plt.show()"
   ]
  },
  {
   "cell_type": "code",
   "execution_count": null,
   "id": "226d72bb",
   "metadata": {},
   "outputs": [],
   "source": []
  },
  {
   "cell_type": "code",
   "execution_count": null,
   "id": "0ec4b9af",
   "metadata": {},
   "outputs": [],
   "source": []
  },
  {
   "cell_type": "code",
   "execution_count": null,
   "id": "5687a626",
   "metadata": {},
   "outputs": [],
   "source": []
  }
 ],
 "metadata": {
  "kernelspec": {
   "display_name": "Python 3 (ipykernel)",
   "language": "python",
   "name": "python3"
  },
  "language_info": {
   "codemirror_mode": {
    "name": "ipython",
    "version": 3
   },
   "file_extension": ".py",
   "mimetype": "text/x-python",
   "name": "python",
   "nbconvert_exporter": "python",
   "pygments_lexer": "ipython3",
   "version": "3.9.15"
  }
 },
 "nbformat": 4,
 "nbformat_minor": 5
}
