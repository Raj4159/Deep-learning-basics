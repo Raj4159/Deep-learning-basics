{
 "cells": [
  {
   "cell_type": "markdown",
   "id": "3164c4b2",
   "metadata": {},
   "source": [
    "## Import relevant libraries"
   ]
  },
  {
   "cell_type": "code",
   "execution_count": 1,
   "id": "f968c1ee",
   "metadata": {},
   "outputs": [],
   "source": [
    "import numpy as np\n",
    "from sklearn import preprocessing\n",
    "import tensorflow as tf"
   ]
  },
  {
   "cell_type": "markdown",
   "id": "4b1347be",
   "metadata": {},
   "source": [
    "## Load data"
   ]
  },
  {
   "cell_type": "code",
   "execution_count": 2,
   "id": "0eb397b1",
   "metadata": {},
   "outputs": [],
   "source": [
    "raw_audio_data = np.loadtxt('Audiobooks_data.csv', delimiter=',')\n",
    "raw_audio_data\n",
    "\n",
    "unscaled_inputs_all = raw_audio_data[:,1:-1]\n",
    "targets_all = raw_audio_data[:,-1]"
   ]
  },
  {
   "cell_type": "markdown",
   "id": "332448b1",
   "metadata": {},
   "source": [
    "## Balance the dataset"
   ]
  },
  {
   "cell_type": "code",
   "execution_count": 3,
   "id": "c49cb687",
   "metadata": {},
   "outputs": [],
   "source": [
    "num_one_targets = int(np.sum(targets_all))\n",
    "zero_targets_counter = 0\n",
    "\n",
    "indices_to_remove = []\n",
    "\n",
    "for i in range (targets_all.shape[0]):\n",
    "    if targets_all[i] == 0:\n",
    "        zero_targets_counter += 1\n",
    "        if zero_targets_counter > num_one_targets:\n",
    "            indices_to_remove.append(i)\n",
    "            \n",
    "unscaled_inputs_equal_priors = np.delete(unscaled_inputs_all, indices_to_remove, axis = 0)\n",
    "targets_equal_prior = np.delete(targets_all, indices_to_remove, axis = 0)"
   ]
  },
  {
   "cell_type": "markdown",
   "id": "625f9d1a",
   "metadata": {},
   "source": [
    "## Standardize the inputs"
   ]
  },
  {
   "cell_type": "code",
   "execution_count": 4,
   "id": "60eb1dbe",
   "metadata": {},
   "outputs": [],
   "source": [
    "scaled_inputs = preprocessing.scale(unscaled_inputs_equal_priors)"
   ]
  },
  {
   "cell_type": "markdown",
   "id": "c191ae39",
   "metadata": {},
   "source": [
    "## Shuffle the data"
   ]
  },
  {
   "cell_type": "code",
   "execution_count": 5,
   "id": "1ec077b0",
   "metadata": {},
   "outputs": [],
   "source": [
    "shuffled_indices = np.arange(scaled_inputs.shape[0])\n",
    "np.random.shuffle(shuffled_indices)\n",
    "\n",
    "shuffled_inputs = scaled_inputs[shuffled_indices]\n",
    "shuffled_targets = targets_equal_prior[shuffled_indices]"
   ]
  },
  {
   "cell_type": "markdown",
   "id": "925a3a6a",
   "metadata": {},
   "source": [
    "## Split data into train, validation and test data"
   ]
  },
  {
   "cell_type": "code",
   "execution_count": 6,
   "id": "312ecac0",
   "metadata": {},
   "outputs": [
    {
     "name": "stdout",
     "output_type": "stream",
     "text": [
      "Training Data:  1809.0    3579    0.5054484492875104\n",
      "Validation Data:  214.0    447    0.47874720357941836\n",
      "Test Data:  214.0    448    0.47767857142857145\n"
     ]
    }
   ],
   "source": [
    "sample_count = shuffled_inputs.shape[0]\n",
    "\n",
    "train_sample_count = int(0.8*sample_count)\n",
    "validation_sample_count = int(0.1*sample_count)\n",
    "test_sample_count = sample_count - train_sample_count - validation_sample_count\n",
    "\n",
    "train_inputs = shuffled_inputs[:train_sample_count]\n",
    "train_targets = shuffled_targets[:train_sample_count]\n",
    "\n",
    "validation_inputs = shuffled_inputs[train_sample_count:validation_sample_count+train_sample_count]\n",
    "validation_targets  = shuffled_targets[train_sample_count:validation_sample_count+train_sample_count]\n",
    "\n",
    "test_inputs = shuffled_inputs[validation_sample_count+train_sample_count:]\n",
    "test_targets = shuffled_targets[validation_sample_count+train_sample_count:]\n",
    "\n",
    "print('Training Data: ', np.sum(train_targets),'  ',train_sample_count,'  ', np.sum(train_targets)/train_sample_count)\n",
    "print('Validation Data: ',np.sum(validation_targets),'  ', validation_sample_count,'  ', np.sum(validation_targets)/validation_sample_count)\n",
    "print('Test Data: ', np.sum(test_targets),'  ', test_sample_count,'  ', np.sum(test_targets)/test_sample_count)\n",
    "    "
   ]
  },
  {
   "cell_type": "markdown",
   "id": "51295935",
   "metadata": {},
   "source": [
    "## Save the three datasets in *.npz"
   ]
  },
  {
   "cell_type": "code",
   "execution_count": 7,
   "id": "9db72753",
   "metadata": {},
   "outputs": [],
   "source": [
    "np.savez('Audiobook_data_train', inputs = train_inputs, targets = train_targets)\n",
    "np.savez('Audiobook_data_validation', inputs = validation_inputs, targets = validation_targets)\n",
    "np.savez('Audiobook_data_test', inputs = test_inputs, targets = test_targets)"
   ]
  },
  {
   "cell_type": "markdown",
   "id": "80ae7c4b",
   "metadata": {},
   "source": [
    "## Creating machine learning algorithm"
   ]
  },
  {
   "cell_type": "markdown",
   "id": "0d226a2a",
   "metadata": {},
   "source": [
    "### Data"
   ]
  },
  {
   "cell_type": "code",
   "execution_count": 8,
   "id": "46ca00e1",
   "metadata": {},
   "outputs": [
    {
     "name": "stderr",
     "output_type": "stream",
     "text": [
      "C:\\Users\\rajso\\AppData\\Local\\Temp\\ipykernel_6964\\1399576907.py:3: DeprecationWarning: `np.float` is a deprecated alias for the builtin `float`. To silence this warning, use `float` by itself. Doing this will not modify any behavior and is safe. If you specifically wanted the numpy scalar type, use `np.float64` here.\n",
      "Deprecated in NumPy 1.20; for more details and guidance: https://numpy.org/devdocs/release/1.20.0-notes.html#deprecations\n",
      "  train_inputs = npz['inputs'].astype(np.float)\n",
      "C:\\Users\\rajso\\AppData\\Local\\Temp\\ipykernel_6964\\1399576907.py:4: DeprecationWarning: `np.int` is a deprecated alias for the builtin `int`. To silence this warning, use `int` by itself. Doing this will not modify any behavior and is safe. When replacing `np.int`, you may wish to use e.g. `np.int64` or `np.int32` to specify the precision. If you wish to review your current use, check the release note link for additional information.\n",
      "Deprecated in NumPy 1.20; for more details and guidance: https://numpy.org/devdocs/release/1.20.0-notes.html#deprecations\n",
      "  train_targets = npz['targets'].astype(np.int)\n",
      "C:\\Users\\rajso\\AppData\\Local\\Temp\\ipykernel_6964\\1399576907.py:8: DeprecationWarning: `np.float` is a deprecated alias for the builtin `float`. To silence this warning, use `float` by itself. Doing this will not modify any behavior and is safe. If you specifically wanted the numpy scalar type, use `np.float64` here.\n",
      "Deprecated in NumPy 1.20; for more details and guidance: https://numpy.org/devdocs/release/1.20.0-notes.html#deprecations\n",
      "  validation_inputs = npz['inputs'].astype(np.float)\n",
      "C:\\Users\\rajso\\AppData\\Local\\Temp\\ipykernel_6964\\1399576907.py:9: DeprecationWarning: `np.int` is a deprecated alias for the builtin `int`. To silence this warning, use `int` by itself. Doing this will not modify any behavior and is safe. When replacing `np.int`, you may wish to use e.g. `np.int64` or `np.int32` to specify the precision. If you wish to review your current use, check the release note link for additional information.\n",
      "Deprecated in NumPy 1.20; for more details and guidance: https://numpy.org/devdocs/release/1.20.0-notes.html#deprecations\n",
      "  validation_targets = npz['targets'].astype(np.int)\n",
      "C:\\Users\\rajso\\AppData\\Local\\Temp\\ipykernel_6964\\1399576907.py:13: DeprecationWarning: `np.float` is a deprecated alias for the builtin `float`. To silence this warning, use `float` by itself. Doing this will not modify any behavior and is safe. If you specifically wanted the numpy scalar type, use `np.float64` here.\n",
      "Deprecated in NumPy 1.20; for more details and guidance: https://numpy.org/devdocs/release/1.20.0-notes.html#deprecations\n",
      "  test_inputs = npz['inputs'].astype(np.float)\n",
      "C:\\Users\\rajso\\AppData\\Local\\Temp\\ipykernel_6964\\1399576907.py:14: DeprecationWarning: `np.int` is a deprecated alias for the builtin `int`. To silence this warning, use `int` by itself. Doing this will not modify any behavior and is safe. When replacing `np.int`, you may wish to use e.g. `np.int64` or `np.int32` to specify the precision. If you wish to review your current use, check the release note link for additional information.\n",
      "Deprecated in NumPy 1.20; for more details and guidance: https://numpy.org/devdocs/release/1.20.0-notes.html#deprecations\n",
      "  test_targets = npz['targets'].astype(np.int)\n"
     ]
    }
   ],
   "source": [
    "npz = np.load('Audiobook_data_train.npz')\n",
    "\n",
    "train_inputs = npz['inputs'].astype(np.float)\n",
    "train_targets = npz['targets'].astype(np.int)\n",
    "\n",
    "npz = np.load('Audiobook_data_validation.npz')\n",
    "\n",
    "validation_inputs = npz['inputs'].astype(np.float)\n",
    "validation_targets = npz['targets'].astype(np.int)\n",
    "\n",
    "npz = np.load('Audiobook_data_test.npz')\n",
    "\n",
    "test_inputs = npz['inputs'].astype(np.float)\n",
    "test_targets = npz['targets'].astype(np.int)"
   ]
  },
  {
   "cell_type": "markdown",
   "id": "db5c94b7",
   "metadata": {},
   "source": [
    "### Building the model"
   ]
  },
  {
   "cell_type": "code",
   "execution_count": 9,
   "id": "caf45fab",
   "metadata": {},
   "outputs": [],
   "source": [
    "input_size = 10\n",
    "output_size = 2\n",
    "hidden_layer_size = 100\n",
    "\n",
    "model = tf.keras.Sequential([\n",
    "                            tf.keras.layers.Dense(hidden_layer_size, activation='relu'),\n",
    "                            tf.keras.layers.Dense(hidden_layer_size, activation='relu'),\n",
    "                            tf.keras.layers.Dense(output_size, activation='softmax') \n",
    "                            ])\n",
    "custom_optimizer = tf.keras.optimizers.Adam(learning_rate=0.01)\n",
    "model.compile(optimizer = custom_optimizer, loss='sparse_categorical_crossentropy', metrics=['accuracy'])"
   ]
  },
  {
   "cell_type": "markdown",
   "id": "29588184",
   "metadata": {},
   "source": [
    "### Fitting the model"
   ]
  },
  {
   "cell_type": "code",
   "execution_count": 10,
   "id": "0d8fd45d",
   "metadata": {},
   "outputs": [
    {
     "name": "stdout",
     "output_type": "stream",
     "text": [
      "Epoch 1/50\n",
      "3579/3579 - 3s - loss: 0.4059 - accuracy: 0.8650 - val_loss: 0.3214 - val_accuracy: 0.9038 - 3s/epoch - 877us/step\n",
      "Epoch 2/50\n",
      "3579/3579 - 3s - loss: 0.3549 - accuracy: 0.8857 - val_loss: 0.3020 - val_accuracy: 0.8859 - 3s/epoch - 794us/step\n",
      "Epoch 3/50\n",
      "3579/3579 - 3s - loss: 0.3387 - accuracy: 0.8921 - val_loss: 0.3087 - val_accuracy: 0.8456 - 3s/epoch - 798us/step\n",
      "Epoch 4/50\n",
      "3579/3579 - 3s - loss: 0.2855 - accuracy: 0.9014 - val_loss: 0.2802 - val_accuracy: 0.8993 - 3s/epoch - 801us/step\n",
      "Epoch 5/50\n",
      "3579/3579 - 3s - loss: 0.4155 - accuracy: 0.8944 - val_loss: 0.3186 - val_accuracy: 0.8926 - 3s/epoch - 802us/step\n",
      "Epoch 6/50\n",
      "3579/3579 - 3s - loss: 0.3250 - accuracy: 0.8955 - val_loss: 0.2732 - val_accuracy: 0.9016 - 3s/epoch - 797us/step\n",
      "Epoch 7/50\n",
      "3579/3579 - 3s - loss: 0.2742 - accuracy: 0.9036 - val_loss: 0.2862 - val_accuracy: 0.8993 - 3s/epoch - 800us/step\n",
      "Epoch 8/50\n",
      "3579/3579 - 3s - loss: 0.2683 - accuracy: 0.9061 - val_loss: 0.2915 - val_accuracy: 0.8971 - 3s/epoch - 800us/step\n"
     ]
    },
    {
     "data": {
      "text/plain": [
       "<keras.callbacks.History at 0x1d30236bca0>"
      ]
     },
     "execution_count": 10,
     "metadata": {},
     "output_type": "execute_result"
    }
   ],
   "source": [
    "batch_size = 1\n",
    "\n",
    "max_epochs = 50\n",
    "\n",
    "early_stopping = tf.keras.callbacks.EarlyStopping(patience = 2)\n",
    "\n",
    "model.fit(train_inputs,\n",
    "         train_targets,\n",
    "         batch_size = batch_size,\n",
    "         epochs = max_epochs,\n",
    "         callbacks=[early_stopping],\n",
    "         validation_data = (validation_inputs, validation_targets),\n",
    "         verbose = 2)"
   ]
  },
  {
   "cell_type": "markdown",
   "id": "90be720f",
   "metadata": {},
   "source": [
    "## Test the model"
   ]
  },
  {
   "cell_type": "code",
   "execution_count": 11,
   "id": "bc26b8cc",
   "metadata": {},
   "outputs": [
    {
     "name": "stdout",
     "output_type": "stream",
     "text": [
      "14/14 [==============================] - 0s 1ms/step - loss: 0.2948 - accuracy: 0.9129\n"
     ]
    }
   ],
   "source": [
    "test_loss, test_accuracy = model.evaluate(test_inputs, test_targets)"
   ]
  },
  {
   "cell_type": "code",
   "execution_count": 12,
   "id": "15066d57",
   "metadata": {},
   "outputs": [
    {
     "name": "stdout",
     "output_type": "stream",
     "text": [
      "Test loss: 0.29. Test accuracy: 91.29%\n"
     ]
    }
   ],
   "source": [
    "print('Test loss: {0:.2f}. Test accuracy: {1:.2f}%'.format(test_loss, test_accuracy * 100.))"
   ]
  },
  {
   "cell_type": "code",
   "execution_count": null,
   "id": "a5823642",
   "metadata": {},
   "outputs": [],
   "source": []
  }
 ],
 "metadata": {
  "kernelspec": {
   "display_name": "Python 3 (ipykernel)",
   "language": "python",
   "name": "python3"
  },
  "language_info": {
   "codemirror_mode": {
    "name": "ipython",
    "version": 3
   },
   "file_extension": ".py",
   "mimetype": "text/x-python",
   "name": "python",
   "nbconvert_exporter": "python",
   "pygments_lexer": "ipython3",
   "version": "3.10.8"
  }
 },
 "nbformat": 4,
 "nbformat_minor": 5
}
